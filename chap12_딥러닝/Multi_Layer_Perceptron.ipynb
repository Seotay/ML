{
 "cells": [
  {
   "cell_type": "code",
   "execution_count": 105,
   "metadata": {},
   "outputs": [],
   "source": [
    "\n",
    "# import\n",
    "import os\n",
    "import pandas as pd\n",
    "import numpy as np\n",
    "import matplotlib.pyplot as plt\n",
    "from sklearn.model_selection import train_test_split\n",
    "from sklearn.preprocessing import MinMaxScaler\n",
    "\n",
    "# ANN module\n",
    "import torch\n",
    "from torch import nn, optim\n",
    "from torch.utils.data import DataLoader, Dataset\n",
    "import torch.nn.functional as F\n",
    "\n",
    "# Loss\n",
    "from sklearn.metrics import mean_squared_error\n"
   ]
  },
  {
   "cell_type": "code",
   "execution_count": 61,
   "metadata": {},
   "outputs": [
    {
     "name": "stdout",
     "output_type": "stream",
     "text": [
      "현재 경로: /home/bml_th/code/test\n"
     ]
    }
   ],
   "source": [
    "# current path\n",
    "current_path = os.getcwd()\n",
    "print(\"현재 경로:\", current_path)\n",
    "boston_file_path = '/home/bml_th/code/data/boston.csv'"
   ]
  },
  {
   "cell_type": "code",
   "execution_count": 62,
   "metadata": {},
   "outputs": [
    {
     "data": {
      "text/html": [
       "<div>\n",
       "<style scoped>\n",
       "    .dataframe tbody tr th:only-of-type {\n",
       "        vertical-align: middle;\n",
       "    }\n",
       "\n",
       "    .dataframe tbody tr th {\n",
       "        vertical-align: top;\n",
       "    }\n",
       "\n",
       "    .dataframe thead th {\n",
       "        text-align: right;\n",
       "    }\n",
       "</style>\n",
       "<table border=\"1\" class=\"dataframe\">\n",
       "  <thead>\n",
       "    <tr style=\"text-align: right;\">\n",
       "      <th></th>\n",
       "      <th>CRIM</th>\n",
       "      <th>ZN</th>\n",
       "      <th>INDUS</th>\n",
       "      <th>CHAS</th>\n",
       "      <th>NOX</th>\n",
       "      <th>RM</th>\n",
       "      <th>AGE</th>\n",
       "      <th>DIS</th>\n",
       "      <th>RAD</th>\n",
       "      <th>TAX</th>\n",
       "      <th>PTRATIO</th>\n",
       "      <th>B</th>\n",
       "      <th>LSTAT</th>\n",
       "      <th>Price</th>\n",
       "    </tr>\n",
       "  </thead>\n",
       "  <tbody>\n",
       "    <tr>\n",
       "      <th>0</th>\n",
       "      <td>0.00632</td>\n",
       "      <td>18.0</td>\n",
       "      <td>2.31</td>\n",
       "      <td>0.0</td>\n",
       "      <td>0.538</td>\n",
       "      <td>6.575</td>\n",
       "      <td>65.2</td>\n",
       "      <td>4.0900</td>\n",
       "      <td>1.0</td>\n",
       "      <td>296.0</td>\n",
       "      <td>15.3</td>\n",
       "      <td>396.90</td>\n",
       "      <td>4.98</td>\n",
       "      <td>24.0</td>\n",
       "    </tr>\n",
       "    <tr>\n",
       "      <th>1</th>\n",
       "      <td>0.02731</td>\n",
       "      <td>0.0</td>\n",
       "      <td>7.07</td>\n",
       "      <td>0.0</td>\n",
       "      <td>0.469</td>\n",
       "      <td>6.421</td>\n",
       "      <td>78.9</td>\n",
       "      <td>4.9671</td>\n",
       "      <td>2.0</td>\n",
       "      <td>242.0</td>\n",
       "      <td>17.8</td>\n",
       "      <td>396.90</td>\n",
       "      <td>9.14</td>\n",
       "      <td>21.6</td>\n",
       "    </tr>\n",
       "    <tr>\n",
       "      <th>2</th>\n",
       "      <td>0.02729</td>\n",
       "      <td>0.0</td>\n",
       "      <td>7.07</td>\n",
       "      <td>0.0</td>\n",
       "      <td>0.469</td>\n",
       "      <td>7.185</td>\n",
       "      <td>61.1</td>\n",
       "      <td>4.9671</td>\n",
       "      <td>2.0</td>\n",
       "      <td>242.0</td>\n",
       "      <td>17.8</td>\n",
       "      <td>392.83</td>\n",
       "      <td>4.03</td>\n",
       "      <td>34.7</td>\n",
       "    </tr>\n",
       "  </tbody>\n",
       "</table>\n",
       "</div>"
      ],
      "text/plain": [
       "      CRIM    ZN  INDUS  CHAS    NOX     RM   AGE     DIS  RAD    TAX  \\\n",
       "0  0.00632  18.0   2.31   0.0  0.538  6.575  65.2  4.0900  1.0  296.0   \n",
       "1  0.02731   0.0   7.07   0.0  0.469  6.421  78.9  4.9671  2.0  242.0   \n",
       "2  0.02729   0.0   7.07   0.0  0.469  7.185  61.1  4.9671  2.0  242.0   \n",
       "\n",
       "   PTRATIO       B  LSTAT  Price  \n",
       "0     15.3  396.90   4.98   24.0  \n",
       "1     17.8  396.90   9.14   21.6  \n",
       "2     17.8  392.83   4.03   34.7  "
      ]
     },
     "execution_count": 62,
     "metadata": {},
     "output_type": "execute_result"
    }
   ],
   "source": [
    "# load_data\n",
    "df = pd.read_csv(boston_file_path)\n",
    "df.rename(columns={'MEDV' : 'Price'}, inplace = True)\n",
    "df.head(3)"
   ]
  },
  {
   "cell_type": "code",
   "execution_count": 63,
   "metadata": {},
   "outputs": [
    {
     "data": {
      "text/plain": [
       "((506, 13), (506, 1))"
      ]
     },
     "execution_count": 63,
     "metadata": {},
     "output_type": "execute_result"
    }
   ],
   "source": [
    "## scaling data\n",
    "from sklearn.preprocessing import MinMaxScaler\n",
    "# features data to numpy array\n",
    "X = df.drop('Price', axis = 1).to_numpy()\n",
    "y = df['Price'].to_numpy().reshape((-1, 1))\n",
    "\n",
    "# scaling\n",
    "# MinMax Scaling => ((X-min(X))/(max(X)-min(X)) \n",
    "scaler = MinMaxScaler()\n",
    "scaler.fit(X)\n",
    "X = scaler.transform(X)\n",
    "scaler.fit(y)\n",
    "y = scaler.transform(y)\n",
    "\n",
    "X.shape, y.shape"
   ]
  },
  {
   "cell_type": "code",
   "execution_count": 64,
   "metadata": {},
   "outputs": [],
   "source": [
    "# torch의 Datasets 상속\n",
    "from torch.utils.data import DataLoader, Dataset      # 데이터를 모델에 사용할 수 있게 정리해주는 라이브러리.\n",
    "\n",
    "class TensorData(Dataset):\n",
    "    def __init__(self, x_data, y_data):\n",
    "        self.x_data = torch.FloatTensor(x_data)\n",
    "        self.y_data = torch.FloatTensor(y_data)\n",
    "        self.len = self.y_data.shape[0]\n",
    "    \n",
    "    def __getitem__(self, index):\n",
    "        return self.x_data[index], self.y_data[index]\n",
    "    \n",
    "    def __len__(self):\n",
    "        return self.len"
   ]
  },
  {
   "cell_type": "code",
   "execution_count": 65,
   "metadata": {},
   "outputs": [],
   "source": [
    "# split train/test data (50:50)\n",
    "from sklearn.model_selection import train_test_split\n",
    "X_train, X_test, y_train, y_test = train_test_split(X, y, test_size = 0.5)\n",
    "X_train.shape, y_train.shape, X_test.shape, y_test.shape\n",
    "\n",
    "# create batch type of train and test data\n",
    "trainsets = TensorData(X_train, y_train)\n",
    "trainloader = torch.utils.data.DataLoader(trainsets, batch_size = 32, shuffle = True) # DataLoader: 학습할 데이터셋을 쪼개서, 미니 배치 단위로 모델에 입력.\n",
    "\n",
    "testsets = TensorData(X_test, y_test)\n",
    "testloader = torch.utils.data.DataLoader(testsets, batch_size = 32, shuffle = True) # DataLoader: 학습할 데이터셋을 쪼개서, 미니 배치 단위로 모델에 입력."
   ]
  },
  {
   "cell_type": "code",
   "execution_count": 96,
   "metadata": {},
   "outputs": [],
   "source": [
    "# Model\n",
    "from torch import nn, optim                           # torch 에서 제공하는 신경망 기술, 손실함수, 최적화를 할 수 있는 함수들을 불러온다.\n",
    "import torch.nn.functional as F                       # torch 내의 세부적인 기능을 불러옴.\n",
    "\n",
    "input_n = X_train.shape[1]\n",
    "output_n = y_train.shape[1]\n",
    "\n",
    "class Regressor(nn.Module):\n",
    "    def __init__(self):\n",
    "        super().__init__() # 모델 연산 정의\n",
    "        self.fc1 = nn.Linear(input_n, 50, bias = True) # input layer(13) -> hidden layer1(50)\n",
    "        self.fc2 = nn.Linear(50, 30, bias = True) # hidden layer1(50) -> hidden layer2(30)\n",
    "        self.fc3 = nn.Linear(30, output_n, bias = True) # hidden layer2(30) -> ouput layer(1)\n",
    "        self.dropout = nn.Dropout(0.2) # randomly dropout nodes 2%\n",
    "\n",
    "    def forward(self, x): # 모델 연산 순서 정의\n",
    "        x = F.relu(self.fc1(x)) # activation function: relu\n",
    "        x = self.dropout(F.relu(self.fc2(x))) # dropout in hidden layer2 -> 30 * 0.2 = 6 nodes droupout\n",
    "        x = F.relu(self.fc3(x)) # activation function: relu\n",
    "        return x\n",
    "    \n",
    "# drop-out: 특정한 설명변수 feature만을 과도하게 집중하여 학습함으로써 발생할 수 있는 overfitting을 방지하기 위해 사용하는 기법."
   ]
  },
  {
   "cell_type": "code",
   "execution_count": 99,
   "metadata": {},
   "outputs": [],
   "source": [
    "# model, loss_function, optimization 선언\n",
    "model = Regressor() \n",
    "criterion = nn.MSELoss()\n",
    "optimizer = optim.Adam(model.parameters(), lr = 0.001, weight_decay=1e-7)"
   ]
  },
  {
   "cell_type": "code",
   "execution_count": 100,
   "metadata": {},
   "outputs": [],
   "source": [
    "# trianing\n",
    "loss_ = [] # loss list\n",
    "n = len(trainloader) # iteration(8) = train_size/batch_size\n",
    "\n",
    "for epoch in range(400):\n",
    "    running_loss = 0.0 # 각 배치마다(iteration) 나오는 loss로부터 MSE를 구하기 위해서 사용.\n",
    "\n",
    "    for i, data in enumerate(trainloader, 0): # 무작위로 섞인 32개의 데이터가 담긴 배치가 하나씩 들어온다.\n",
    "        inputs, values = data # data에는 X, Y가 들어있음.\n",
    "        optimizer.zero_grad() # 최적화 초기화\n",
    "        outputs = model(inputs) # 모델에 입력값을 넣어 예측값 계산\n",
    "        loss = criterion(outputs, values) # 손실함수를 계산, error계산\n",
    "        loss.backward() # 손실함수를 기준으로 역전파를 설정한다.\n",
    "        optimizer.step() # 역전파를 진행하고 가중치를 업데이트\n",
    "\n",
    "        running_loss += loss.item() # epoch 마다 평균 loss를 계산하기 위해 배치 loss를 더한다.\n",
    "    \n",
    "    loss_.append(running_loss/n) # MSE(Mean Squared Error) 계산\n",
    "\n",
    "        "
   ]
  },
  {
   "cell_type": "code",
   "execution_count": 101,
   "metadata": {},
   "outputs": [
    {
     "data": {
      "image/png": "[encoded data removed]",
      "text/plain": [
       "<Figure size 640x480 with 1 Axes>"
      ]
     },
     "metadata": {},
     "output_type": "display_data"
    }
   ],
   "source": [
    "# plot loss\n",
    "plt.plot(loss_)\n",
    "plt.title('Loss')\n",
    "plt.xlabel('epoch')\n",
    "plt.show()"
   ]
  },
  {
   "cell_type": "code",
   "execution_count": 104,
   "metadata": {},
   "outputs": [
    {
     "name": "stdout",
     "output_type": "stream",
     "text": [
      "predictions_shape: (253, 1)\n",
      "actual_shape: (253, 1)\n",
      "train rmse:0.04196630045771599\n",
      "predictions_shape: (253, 1)\n",
      "actual_shape: (253, 1)\n",
      "test rmse:0.08417942374944687\n"
     ]
    }
   ],
   "source": [
    "# evaluation test set\n",
    "\n",
    "def evaluation(dataloader):\n",
    "    predictions = torch.tensor([], dtype=torch.float) # 예측값을 저장하는 텐서\n",
    "    actual = torch.tensor([], dtype = torch.float) # 실제값을 저장하는 텐서\n",
    "    \n",
    "    with torch.no_grad():\n",
    "        model.eval() # evaluation model\n",
    "\n",
    "        for data in dataloader:\n",
    "            inputs, values = data\n",
    "            outputs = model(inputs)\n",
    "\n",
    "            predictions = torch.cat((predictions, outputs), 0) # cat 함수를 통해 예측값을 누적.\n",
    "            actual = torch.cat((actual, values), 0)\n",
    "\n",
    "    predictions = predictions.numpy() # 넘파이 배열로 변경.\n",
    "    actual = actual.numpy() # 넘파이 배열로 변경.\n",
    "    print('predictions_shape:', predictions.shape)\n",
    "    print('actual_shape:', actual.shape)\n",
    "\n",
    "    rmse = np.sqrt(mean_squared_error(predictions, actual))\n",
    "    return rmse\n",
    "\n",
    "train_rmse = evaluation(trainloader)\n",
    "print(f'train rmse:{train_rmse}')\n",
    "\n",
    "# test\n",
    "test_rmse = evaluation(testloader)\n",
    "print(f'test rmse:{test_rmse}')"
   ]
  }
 ],
 "metadata": {
  "kernelspec": {
   "display_name": "th",
   "language": "python",
   "name": "python3"
  },
  "language_info": {
   "codemirror_mode": {
    "name": "ipython",
    "version": 3
   },
   "file_extension": ".py",
   "mimetype": "text/x-python",
   "name": "python",
   "nbconvert_exporter": "python",
   "pygments_lexer": "ipython3",
   "version": "3.8.18"
  }
 },
 "nbformat": 4,
 "nbformat_minor": 2
}
