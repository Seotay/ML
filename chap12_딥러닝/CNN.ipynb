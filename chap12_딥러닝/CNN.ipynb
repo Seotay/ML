{
 "cells": [
  {
   "cell_type": "code",
   "execution_count": 71,
   "metadata": {},
   "outputs": [],
   "source": [
    "# random seed\n",
    "import numpy as np\n",
    "import tensorflow as tf\n",
    "np.random.seed(0)\n",
    "tf.random.set_seed(0)"
   ]
  },
  {
   "cell_type": "code",
   "execution_count": 72,
   "metadata": {},
   "outputs": [
    {
     "data": {
      "text/plain": [
       "((60000, 28, 28), (60000,), (10000, 28, 28), (60000,))"
      ]
     },
     "execution_count": 72,
     "metadata": {},
     "output_type": "execute_result"
    }
   ],
   "source": [
    "# load data\n",
    "from tensorflow.keras import datasets\n",
    "(X_train0, y_train0), (X_test0, y_test0) = datasets.mnist.load_data()\n",
    "\n",
    "X_train0.shape, y_train0.shape, X_test0.shape, y_train0.shape"
   ]
  },
  {
   "cell_type": "code",
   "execution_count": 73,
   "metadata": {},
   "outputs": [
    {
     "data": {
      "image/png": "[encoded data removed]",
      "text/plain": [
       "<Figure size 1000x500 with 10 Axes>"
      ]
     },
     "metadata": {},
     "output_type": "display_data"
    }
   ],
   "source": [
    "# visualize original data\n",
    "import matplotlib.pyplot as plt\n",
    "plt.figure(figsize=(10,5))\n",
    "for i in range(2*5):\n",
    "    plt.subplot(2, 5, i+1)\n",
    "    plt.imshow(X_train0[i].reshape((28,28)),\n",
    "               cmap='Greys')\n",
    "plt.show()"
   ]
  },
  {
   "cell_type": "code",
   "execution_count": 74,
   "metadata": {},
   "outputs": [
    {
     "name": "stdout",
     "output_type": "stream",
     "text": [
      "{0, 1, 2, 3, 4, 5, 6, 7, 8, 9}\n"
     ]
    }
   ],
   "source": [
    "# target class\n",
    "print(set(y_train0))"
   ]
  },
  {
   "cell_type": "code",
   "execution_count": 75,
   "metadata": {},
   "outputs": [
    {
     "name": "stdout",
     "output_type": "stream",
     "text": [
      "(60000, 28, 28, 1)\n",
      "(10000, 28, 28, 1)\n"
     ]
    }
   ],
   "source": [
    "# scaling\n",
    "X_train_re = X_train0.reshape(60000, 28, 28, 1)\n",
    "X_train = X_train_re/255\n",
    "print(X_train.shape)\n",
    "\n",
    "X_test_re = X_test0.reshape(10000, 28, 28, 1)\n",
    "X_test = X_test_re/255\n",
    "print(X_test.shape)"
   ]
  },
  {
   "cell_type": "code",
   "execution_count": 76,
   "metadata": {},
   "outputs": [
    {
     "name": "stdout",
     "output_type": "stream",
     "text": [
      "(60000, 10)\n",
      "(10000, 10)\n"
     ]
    }
   ],
   "source": [
    "# one-hot encoding(target)\n",
    "from tensorflow.keras.utils import to_categorical\n",
    "y_train = to_categorical(y_train0)\n",
    "y_test = to_categorical(y_test0)\n",
    "\n",
    "print(y_train.shape)\n",
    "print(y_test.shape)"
   ]
  },
  {
   "cell_type": "code",
   "execution_count": 77,
   "metadata": {},
   "outputs": [
    {
     "name": "stdout",
     "output_type": "stream",
     "text": [
      "Model: \"sequential_2\"\n",
      "_________________________________________________________________\n",
      " Layer (type)                Output Shape              Param #   \n",
      "=================================================================\n",
      " conv2d_4 (Conv2D)           (None, 24, 24, 32)        832       \n",
      "                                                                 \n",
      " max_pooling2d_4 (MaxPoolin  (None, 12, 12, 32)        0         \n",
      " g2D)                                                            \n",
      "                                                                 \n",
      " dropout_6 (Dropout)         (None, 12, 12, 32)        0         \n",
      "                                                                 \n",
      " conv2d_5 (Conv2D)           (None, 10, 10, 32)        9248      \n",
      "                                                                 \n",
      " max_pooling2d_5 (MaxPoolin  (None, 5, 5, 32)          0         \n",
      " g2D)                                                            \n",
      "                                                                 \n",
      " dropout_7 (Dropout)         (None, 5, 5, 32)          0         \n",
      "                                                                 \n",
      " flatten_2 (Flatten)         (None, 800)               0         \n",
      "                                                                 \n",
      " dense_4 (Dense)             (None, 1024)              820224    \n",
      "                                                                 \n",
      " dropout_8 (Dropout)         (None, 1024)              0         \n",
      "                                                                 \n",
      " dense_5 (Dense)             (None, 10)                10250     \n",
      "                                                                 \n",
      "=================================================================\n",
      "Total params: 840554 (3.21 MB)\n",
      "Trainable params: 840554 (3.21 MB)\n",
      "Non-trainable params: 0 (0.00 Byte)\n",
      "_________________________________________________________________\n"
     ]
    }
   ],
   "source": [
    "# create CNN model\n",
    "from tensorflow.keras.models import Sequential\n",
    "from tensorflow.keras.layers import Dense, Conv2D\n",
    "from tensorflow.keras.layers import MaxPool2D, Flatten\n",
    "from tensorflow.keras.layers import Dropout\n",
    "\n",
    "n_class = len(set(y_train0))\n",
    "model = Sequential()\n",
    "model.add(Conv2D(32, kernel_size = (5, 5), # 합성층 추가 #\n",
    "                 input_shape = (28, 28, 1),\n",
    "                 padding = 'valid',\n",
    "                 activation = 'relu'))\n",
    "model.add(MaxPool2D(pool_size = (2,2)))\n",
    "model.add(Dropout(0.25))\n",
    "model.add(Conv2D(32, kernel_size=(3,3),\n",
    "                 padding='valid',\n",
    "                 activation = 'relu'))\n",
    "model.add(MaxPool2D(pool_size = (2,2)))\n",
    "model.add(Dropout(0.25))\n",
    "model.add(Flatten())\n",
    "model.add(Dense(1024, activation='relu'))\n",
    "model.add(Dropout(0.5))\n",
    "model.add(Dense(n_class, activation='softmax'))\n",
    "model.summary()\n",
    "\n"
   ]
  },
  {
   "cell_type": "code",
   "execution_count": 78,
   "metadata": {},
   "outputs": [
    {
     "name": "stdout",
     "output_type": "stream",
     "text": [
      "Epoch 1/3\n"
     ]
    },
    {
     "name": "stderr",
     "output_type": "stream",
     "text": [
      "2024-01-30 07:11:16.382773: E tensorflow/core/grappler/optimizers/meta_optimizer.cc:954] layout failed: INVALID_ARGUMENT: Size of values 0 does not match size of permutation 4 @ fanin shape insequential_2/dropout_6/dropout/SelectV2-2-TransposeNHWCToNCHW-LayoutOptimizer\n"
     ]
    },
    {
     "name": "stdout",
     "output_type": "stream",
     "text": [
      "600/600 [==============================] - 5s 6ms/step - loss: 0.2203 - accuracy: 0.9310\n",
      "Epoch 2/3\n",
      "600/600 [==============================] - 4s 6ms/step - loss: 0.0754 - accuracy: 0.9765\n",
      "Epoch 3/3\n",
      "600/600 [==============================] - 4s 6ms/step - loss: 0.0565 - accuracy: 0.9827\n"
     ]
    }
   ],
   "source": [
    "# model compile\n",
    "model.compile(loss = 'categorical_crossentropy',\n",
    "              optimizer = 'adam',\n",
    "              metrics=['accuracy'])\n",
    "\n",
    "# training\n",
    "hist = model.fit(X_train, y_train, epochs=3, batch_size = 100)"
   ]
  },
  {
   "cell_type": "code",
   "execution_count": 79,
   "metadata": {},
   "outputs": [
    {
     "name": "stdout",
     "output_type": "stream",
     "text": [
      "1875/1875 [==============================] - 7s 4ms/step - loss: 0.0263 - accuracy: 0.9919\n",
      "0.9919166564941406\n",
      "313/313 [==============================] - 1s 4ms/step - loss: 0.0279 - accuracy: 0.9902\n",
      "0.9901999831199646\n"
     ]
    }
   ],
   "source": [
    "# model evaluation\n",
    "print(model.evaluate(X_train, y_train)[1])\n",
    "print(model.evaluate(X_test, y_test)[1])"
   ]
  },
  {
   "cell_type": "code",
   "execution_count": 80,
   "metadata": {},
   "outputs": [
    {
     "name": "stdout",
     "output_type": "stream",
     "text": [
      "313/313 [==============================] - 1s 3ms/step\n",
      "[6.95724189e-09 2.15016385e-07 1.27951807e-06 2.04428106e-05\n",
      " 1.00112265e-08 3.45792905e-08 1.21333377e-11 9.99962687e-01\n",
      " 1.67705522e-07 1.52595730e-05]\n",
      "[7 2 1 ... 4 5 6]\n"
     ]
    }
   ],
   "source": [
    "# missing index\n",
    "y_pred_hot = model.predict(X_test)\n",
    "print(y_pred_hot[0])\n",
    "\n",
    "import numpy as np\n",
    "y_pred = np.argmax(y_pred_hot, axis = 1)\n",
    "print(y_pred)\n",
    "\n",
    "diff = y_test0 - y_pred\n",
    "diff_idx = []\n",
    "y_len = len(y_test0)\n",
    "for i in range(0, y_len):\n",
    "    if(diff[i] != 0):\n",
    "        diff_idx.append(i)"
   ]
  },
  {
   "cell_type": "code",
   "execution_count": 81,
   "metadata": {},
   "outputs": [
    {
     "data": {
      "image/png": "[encoded data removed]",
      "text/plain": [
       "<Figure size 1000x500 with 10 Axes>"
      ]
     },
     "metadata": {},
     "output_type": "display_data"
    }
   ],
   "source": [
    "# visualize missing data\n",
    "import matplotlib.pyplot as plt\n",
    "plt.figure(figsize=(10,5))\n",
    "for i in range(2*5):\n",
    "    plt.subplot(2, 5, i+1)\n",
    "    raw_idx = diff_idx[i]\n",
    "    plt.imshow(X_test0[raw_idx].reshape((28, 28)),\n",
    "               cmap = 'Greys')\n",
    "plt.show()"
   ]
  }
 ],
 "metadata": {
  "kernelspec": {
   "display_name": "th",
   "language": "python",
   "name": "python3"
  },
  "language_info": {
   "codemirror_mode": {
    "name": "ipython",
    "version": 3
   },
   "file_extension": ".py",
   "mimetype": "text/x-python",
   "name": "python",
   "nbconvert_exporter": "python",
   "pygments_lexer": "ipython3",
   "version": "3.8.18"
  }
 },
 "nbformat": 4,
 "nbformat_minor": 2
}
