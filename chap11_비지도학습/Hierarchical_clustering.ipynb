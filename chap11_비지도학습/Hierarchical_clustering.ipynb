{
 "cells": [
  {
   "cell_type": "code",
   "execution_count": 2,
   "metadata": {},
   "outputs": [
    {
     "data": {
      "text/plain": [
       "((10, 2), (10,))"
      ]
     },
     "execution_count": 2,
     "metadata": {},
     "output_type": "execute_result"
    }
   ],
   "source": [
    "# load data\n",
    "from sklearn.datasets import make_blobs\n",
    "X, y = make_blobs(n_samples=10,\n",
    "                  n_features=2,\n",
    "                  random_state=0)\n",
    "X.shape, y.shape"
   ]
  },
  {
   "cell_type": "code",
   "execution_count": 4,
   "metadata": {},
   "outputs": [
    {
     "name": "stdout",
     "output_type": "stream",
     "text": [
      "[8 9 6 4 5 2 7 3 1 0]\n"
     ]
    }
   ],
   "source": [
    "# agglomerative clustering(n_clusters = None)\n",
    "from sklearn.cluster import AgglomerativeClustering\n",
    "aggc = AgglomerativeClustering(n_clusters=None,\n",
    "                               distance_threshold=0,\n",
    "                               linkage='complete')\n",
    "label_aggc = aggc.fit_predict(X)\n",
    "print(label_aggc)"
   ]
  },
  {
   "cell_type": "code",
   "execution_count": 5,
   "metadata": {},
   "outputs": [
    {
     "name": "stdout",
     "output_type": "stream",
     "text": [
      "[0 0 0 0 0 0 1 0 0 0]\n"
     ]
    }
   ],
   "source": [
    "# agglomerative clustering(n_clusters = 2)\n",
    "aggc2 = AgglomerativeClustering(n_clusters=2,\n",
    "                                linkage='complete')\n",
    "label_aggc2 = aggc2.fit_predict(X)\n",
    "print(label_aggc2)"
   ]
  },
  {
   "cell_type": "code",
   "execution_count": 6,
   "metadata": {},
   "outputs": [
    {
     "name": "stdout",
     "output_type": "stream",
     "text": [
      "[0 0 2 0 0 0 1 2 2 0]\n"
     ]
    }
   ],
   "source": [
    "# agglomerative clustering(n_clusters = 3)\n",
    "aggc3 = AgglomerativeClustering(n_clusters=3,\n",
    "                                linkage='complete')\n",
    "label_aggc3 = aggc3.fit_predict(X)\n",
    "print(label_aggc3)"
   ]
  },
  {
   "cell_type": "code",
   "execution_count": 26,
   "metadata": {},
   "outputs": [
    {
     "data": {
      "image/png": "[encoded data removed]",
      "text/plain": [
       "<Figure size 640x480 with 1 Axes>"
      ]
     },
     "metadata": {},
     "output_type": "display_data"
    }
   ],
   "source": [
    "# dendrogram\n",
    "from scipy.cluster.hierarchy import dendrogram\n",
    "from scipy.cluster.hierarchy import linkage\n",
    "import matplotlib.pyplot as plt\n",
    "\n",
    "linked = linkage(X, 'complete')\n",
    "labels = label_aggc\n",
    "dendrogram(linked,\n",
    "           orientation = 'top',\n",
    "           labels = labels,\n",
    "           show_leaf_counts = True)\n",
    "plt.show()"
   ]
  }
 ],
 "metadata": {
  "kernelspec": {
   "display_name": "py3_7_6",
   "language": "python",
   "name": "python3"
  },
  "language_info": {
   "codemirror_mode": {
    "name": "ipython",
    "version": 3
   },
   "file_extension": ".py",
   "mimetype": "text/x-python",
   "name": "python",
   "nbconvert_exporter": "python",
   "pygments_lexer": "ipython3",
   "version": "3.7.6"
  }
 },
 "nbformat": 4,
 "nbformat_minor": 2
}
