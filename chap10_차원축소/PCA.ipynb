{
 "cells": [
  {
   "cell_type": "code",
   "execution_count": 2,
   "metadata": {},
   "outputs": [
    {
     "data": {
      "text/html": [
       "<div>\n",
       "<style scoped>\n",
       "    .dataframe tbody tr th:only-of-type {\n",
       "        vertical-align: middle;\n",
       "    }\n",
       "\n",
       "    .dataframe tbody tr th {\n",
       "        vertical-align: top;\n",
       "    }\n",
       "\n",
       "    .dataframe thead th {\n",
       "        text-align: right;\n",
       "    }\n",
       "</style>\n",
       "<table border=\"1\" class=\"dataframe\">\n",
       "  <thead>\n",
       "    <tr style=\"text-align: right;\">\n",
       "      <th></th>\n",
       "      <th>alcohol</th>\n",
       "      <th>malic_acid</th>\n",
       "      <th>ash</th>\n",
       "      <th>alcalinity_of_ash</th>\n",
       "      <th>magnesium</th>\n",
       "      <th>total_phenols</th>\n",
       "      <th>flavanoids</th>\n",
       "      <th>nonflavanoid_phenols</th>\n",
       "      <th>proanthocyanins</th>\n",
       "      <th>color_intensity</th>\n",
       "      <th>hue</th>\n",
       "      <th>od280/od315_of_diluted_wines</th>\n",
       "      <th>proline</th>\n",
       "      <th>target</th>\n",
       "    </tr>\n",
       "  </thead>\n",
       "  <tbody>\n",
       "    <tr>\n",
       "      <th>0</th>\n",
       "      <td>14.23</td>\n",
       "      <td>1.71</td>\n",
       "      <td>2.43</td>\n",
       "      <td>15.6</td>\n",
       "      <td>127.0</td>\n",
       "      <td>2.80</td>\n",
       "      <td>3.06</td>\n",
       "      <td>0.28</td>\n",
       "      <td>2.29</td>\n",
       "      <td>5.64</td>\n",
       "      <td>1.04</td>\n",
       "      <td>3.92</td>\n",
       "      <td>1065.0</td>\n",
       "      <td>0</td>\n",
       "    </tr>\n",
       "    <tr>\n",
       "      <th>1</th>\n",
       "      <td>13.20</td>\n",
       "      <td>1.78</td>\n",
       "      <td>2.14</td>\n",
       "      <td>11.2</td>\n",
       "      <td>100.0</td>\n",
       "      <td>2.65</td>\n",
       "      <td>2.76</td>\n",
       "      <td>0.26</td>\n",
       "      <td>1.28</td>\n",
       "      <td>4.38</td>\n",
       "      <td>1.05</td>\n",
       "      <td>3.40</td>\n",
       "      <td>1050.0</td>\n",
       "      <td>0</td>\n",
       "    </tr>\n",
       "    <tr>\n",
       "      <th>2</th>\n",
       "      <td>13.16</td>\n",
       "      <td>2.36</td>\n",
       "      <td>2.67</td>\n",
       "      <td>18.6</td>\n",
       "      <td>101.0</td>\n",
       "      <td>2.80</td>\n",
       "      <td>3.24</td>\n",
       "      <td>0.30</td>\n",
       "      <td>2.81</td>\n",
       "      <td>5.68</td>\n",
       "      <td>1.03</td>\n",
       "      <td>3.17</td>\n",
       "      <td>1185.0</td>\n",
       "      <td>0</td>\n",
       "    </tr>\n",
       "  </tbody>\n",
       "</table>\n",
       "</div>"
      ],
      "text/plain": [
       "   alcohol  malic_acid   ash  alcalinity_of_ash  magnesium  total_phenols  \\\n",
       "0    14.23        1.71  2.43               15.6      127.0           2.80   \n",
       "1    13.20        1.78  2.14               11.2      100.0           2.65   \n",
       "2    13.16        2.36  2.67               18.6      101.0           2.80   \n",
       "\n",
       "   flavanoids  nonflavanoid_phenols  proanthocyanins  color_intensity   hue  \\\n",
       "0        3.06                  0.28             2.29             5.64  1.04   \n",
       "1        2.76                  0.26             1.28             4.38  1.05   \n",
       "2        3.24                  0.30             2.81             5.68  1.03   \n",
       "\n",
       "   od280/od315_of_diluted_wines  proline  target  \n",
       "0                          3.92   1065.0       0  \n",
       "1                          3.40   1050.0       0  \n",
       "2                          3.17   1185.0       0  "
      ]
     },
     "execution_count": 2,
     "metadata": {},
     "output_type": "execute_result"
    }
   ],
   "source": [
    "# load data\n",
    "from sklearn import datasets\n",
    "import pandas as pd\n",
    "\n",
    "wine = datasets.load_wine()\n",
    "wine_df = pd.DataFrame(wine.data, columns=wine.feature_names)\n",
    "wine_df['target'] = wine.target\n",
    "wine_df.head(3)"
   ]
  },
  {
   "cell_type": "code",
   "execution_count": 7,
   "metadata": {},
   "outputs": [
    {
     "data": {
      "text/plain": [
       "((133, 13), (133,), (45, 13), (45,))"
      ]
     },
     "execution_count": 7,
     "metadata": {},
     "output_type": "execute_result"
    }
   ],
   "source": [
    "X = wine_df.drop('target', axis=1)\n",
    "y = wine_df['target']\n",
    "\n",
    "# split train/test data\n",
    "from sklearn.model_selection import train_test_split\n",
    "X_train, X_test, y_train, y_test  = train_test_split(X, y, random_state=1)\n",
    "\n",
    "X_train.shape, y_train.shape, X_test.shape, y_test.shape"
   ]
  },
  {
   "cell_type": "code",
   "execution_count": 10,
   "metadata": {},
   "outputs": [],
   "source": [
    "# scaling\n",
    "from sklearn.preprocessing import StandardScaler\n",
    "std_scale = StandardScaler()\n",
    "std_scale.fit(X_train)\n",
    "X_train_std = std_scale.transform(X_train)\n",
    "X_test_std = std_scale.transform(X_test)"
   ]
  },
  {
   "cell_type": "code",
   "execution_count": 13,
   "metadata": {},
   "outputs": [
    {
     "name": "stdout",
     "output_type": "stream",
     "text": [
      "(133, 13)\n",
      "(133, 2)\n"
     ]
    }
   ],
   "source": [
    "# PCA\n",
    "from sklearn.decomposition import PCA\n",
    "pca = PCA(n_components=2)\n",
    "pca.fit(X_train_std)\n",
    "X_train_pca = pca.transform(X_train_std)\n",
    "X_test_pca = pca.transform(X_test_std)\n",
    "\n",
    "print(X_train_std.shape)\n",
    "print(X_train_pca.shape)"
   ]
  },
  {
   "cell_type": "code",
   "execution_count": 16,
   "metadata": {},
   "outputs": [
    {
     "name": "stdout",
     "output_type": "stream",
     "text": [
      "[[ 1.06244198  0.05588975  0.29643474 -0.14674317  0.38769443  0.25079577\n",
      "   0.19779094 -0.10070718  0.17126277  0.44742545 -0.12013532  0.02879752\n",
      "   0.50505224]\n",
      " [ 0.05588975  0.86510155  0.11906446  0.23837434  0.00721146 -0.39785163\n",
      "  -0.4503856   0.31716671 -0.30728109  0.30100181 -0.42357315 -0.45825394\n",
      "  -0.14345856]\n",
      " [ 0.29643474  0.11906446  0.72597065 -0.01380654  0.20891722  0.02618151\n",
      "  -0.01633577  0.03209892  0.00824227  0.32033554 -0.17879769 -0.10868048\n",
      "   0.2307792 ]\n",
      " [-0.14674317  0.23837434 -0.01380654  0.77557799 -0.13456582 -0.4028355\n",
      "  -0.42487887  0.28525095 -0.30301432  0.07431753 -0.28885443 -0.36992936\n",
      "  -0.2952175 ]\n",
      " [ 0.38769443  0.00721146  0.20891722 -0.13456582  0.82428285  0.22898335\n",
      "   0.19490044 -0.10843832  0.16009666  0.30262412 -0.0453494   0.06951315\n",
      "   0.39222323]\n",
      " [ 0.25079577 -0.39785163  0.02618151 -0.4028355   0.22898335  1.21144743\n",
      "   0.7122459  -0.47784458  0.50827447 -0.11953458  0.48155509  0.61862946\n",
      "   0.49873766]\n",
      " [ 0.19779094 -0.4503856  -0.01633577 -0.42487887  0.19490044  0.7122459\n",
      "   1.29615797 -0.51523054  0.53821522 -0.20128733  0.55318211  0.68259141\n",
      "   0.476491  ]\n",
      " [-0.10070718  0.31716671  0.03209892  0.28525095 -0.10843832 -0.47784458\n",
      "  -0.51523054  0.88680515 -0.36236459  0.17130085 -0.39315908 -0.47274872\n",
      "  -0.29608349]\n",
      " [ 0.17126277 -0.30728109  0.00824227 -0.30301432  0.16009666  0.50827447\n",
      "   0.53821522 -0.36236459  0.91837171 -0.10951144  0.37402456  0.4731808\n",
      "   0.36224473]\n",
      " [ 0.44742545  0.30100181  0.32033554  0.07431753  0.30262412 -0.11953458\n",
      "  -0.20128733  0.17130085 -0.10951144  1.11400146 -0.42381722 -0.3369003\n",
      "   0.27449782]\n",
      " [-0.12013532 -0.42357315 -0.17879769 -0.28885443 -0.0453494   0.48155509\n",
      "   0.55318211 -0.39315908  0.37402456 -0.42381722  1.0843246   0.57894667\n",
      "   0.13493049]\n",
      " [ 0.02879752 -0.45825394 -0.10868048 -0.36992936  0.06951315  0.61862946\n",
      "   0.68259141 -0.47274872  0.4731808  -0.3369003   0.57894667  1.19451641\n",
      "   0.30839956]\n",
      " [ 0.50505224 -0.14345856  0.2307792  -0.2952175   0.39222323  0.49873766\n",
      "   0.476491   -0.29608349  0.36224473  0.27449782  0.13493049  0.30839956\n",
      "   1.13948511]]\n",
      "(13, 13)\n"
     ]
    }
   ],
   "source": [
    "# covariance matrix\n",
    "print(pca.get_covariance())\n",
    "print(pca.get_covariance().shape)"
   ]
  },
  {
   "cell_type": "code",
   "execution_count": 17,
   "metadata": {},
   "outputs": [
    {
     "name": "stdout",
     "output_type": "stream",
     "text": [
      "[24.81797394 18.31760391]\n",
      "[[-0.10418545  0.25670612  0.01387486  0.23907587 -0.10470229 -0.4007005\n",
      "  -0.42902734  0.29111343 -0.30307602  0.12127653 -0.31609521 -0.38729685\n",
      "  -0.26283936]\n",
      " [-0.49018724 -0.1691503  -0.30746987  0.04459018 -0.34837302 -0.07966456\n",
      "  -0.0133774  -0.02498633 -0.0415164  -0.50798383  0.26045807  0.14018631\n",
      "  -0.39850143]]\n"
     ]
    }
   ],
   "source": [
    "# eigen value, eigen vector\n",
    "print(pca.singular_values_)\n",
    "print(pca.components_)"
   ]
  },
  {
   "cell_type": "code",
   "execution_count": 18,
   "metadata": {},
   "outputs": [
    {
     "name": "stdout",
     "output_type": "stream",
     "text": [
      "[4.66615023 2.54192889]\n",
      "[0.35623588 0.19406282]\n"
     ]
    }
   ],
   "source": [
    "# explanined variance\n",
    "print(pca.explained_variance_)\n",
    "print(pca.explained_variance_ratio_)"
   ]
  },
  {
   "cell_type": "code",
   "execution_count": 19,
   "metadata": {},
   "outputs": [
    {
     "data": {
      "text/html": [
       "<div>\n",
       "<style scoped>\n",
       "    .dataframe tbody tr th:only-of-type {\n",
       "        vertical-align: middle;\n",
       "    }\n",
       "\n",
       "    .dataframe tbody tr th {\n",
       "        vertical-align: top;\n",
       "    }\n",
       "\n",
       "    .dataframe thead th {\n",
       "        text-align: right;\n",
       "    }\n",
       "</style>\n",
       "<table border=\"1\" class=\"dataframe\">\n",
       "  <thead>\n",
       "    <tr style=\"text-align: right;\">\n",
       "      <th></th>\n",
       "      <th>pca_comp1</th>\n",
       "      <th>pca_comp2</th>\n",
       "      <th>target</th>\n",
       "    </tr>\n",
       "  </thead>\n",
       "  <tbody>\n",
       "    <tr>\n",
       "      <th>0</th>\n",
       "      <td>-2.231848</td>\n",
       "      <td>-0.148603</td>\n",
       "      <td>0.0</td>\n",
       "    </tr>\n",
       "    <tr>\n",
       "      <th>1</th>\n",
       "      <td>-1.364444</td>\n",
       "      <td>0.422617</td>\n",
       "      <td>0.0</td>\n",
       "    </tr>\n",
       "    <tr>\n",
       "      <th>2</th>\n",
       "      <td>-1.918072</td>\n",
       "      <td>-2.014682</td>\n",
       "      <td>0.0</td>\n",
       "    </tr>\n",
       "    <tr>\n",
       "      <th>3</th>\n",
       "      <td>-3.539272</td>\n",
       "      <td>-2.878394</td>\n",
       "      <td>0.0</td>\n",
       "    </tr>\n",
       "    <tr>\n",
       "      <th>4</th>\n",
       "      <td>-3.182320</td>\n",
       "      <td>-2.020041</td>\n",
       "      <td>NaN</td>\n",
       "    </tr>\n",
       "  </tbody>\n",
       "</table>\n",
       "</div>"
      ],
      "text/plain": [
       "   pca_comp1  pca_comp2  target\n",
       "0  -2.231848  -0.148603     0.0\n",
       "1  -1.364444   0.422617     0.0\n",
       "2  -1.918072  -2.014682     0.0\n",
       "3  -3.539272  -2.878394     0.0\n",
       "4  -3.182320  -2.020041     NaN"
      ]
     },
     "execution_count": 19,
     "metadata": {},
     "output_type": "execute_result"
    }
   ],
   "source": [
    "pca_columns = ['pca_comp1', 'pca_comp2']\n",
    "X_train_pca_df = pd.DataFrame(X_train_pca, columns = pca_columns)\n",
    "X_train_pca_df['target'] = y_train\n",
    "X_train_pca_df.head(5)"
   ]
  },
  {
   "cell_type": "code",
   "execution_count": 20,
   "metadata": {},
   "outputs": [
    {
     "data": {
      "image/png": "[encoded data removed]",
      "text/plain": [
       "<Figure size 640x480 with 1 Axes>"
      ]
     },
     "metadata": {},
     "output_type": "display_data"
    }
   ],
   "source": [
    "# no label pca data\n",
    "import matplotlib.pyplot as plt\n",
    "plt.scatter(X_train_pca_df['pca_comp1'],\n",
    "            X_train_pca_df['pca_comp2'],\n",
    "            marker='o')\n",
    "plt.xlabel('pca_component1')\n",
    "plt.ylabel('pca_copmonent2')\n",
    "plt.show()"
   ]
  },
  {
   "cell_type": "code",
   "execution_count": 22,
   "metadata": {},
   "outputs": [
    {
     "data": {
      "image/png": "[encoded data removed]",
      "text/plain": [
       "<Figure size 640x480 with 1 Axes>"
      ]
     },
     "metadata": {},
     "output_type": "display_data"
    }
   ],
   "source": [
    "# label pca data\n",
    "df = X_train_pca_df\n",
    "df_0 = df[df['target'] == 0]\n",
    "df_1 = df[df['target'] == 1]\n",
    "df_2 = df[df['target'] == 2]\n",
    "\n",
    "X_11 = df_0['pca_comp1']\n",
    "X_12 = df_1['pca_comp1']\n",
    "X_13 = df_2['pca_comp1']\n",
    "\n",
    "X_21 = df_0['pca_comp2']\n",
    "X_22 = df_1['pca_comp2']\n",
    "X_23 = df_2['pca_comp2']\n",
    "\n",
    "target_0 = wine.target_names[0]\n",
    "target_1 = wine.target_names[1]\n",
    "target_2 = wine.target_names[2]\n",
    "\n",
    "plt.scatter(X_11, X_21,\n",
    "            marker='o',\n",
    "            label=target_0)\n",
    "\n",
    "plt.scatter(X_12, X_22,\n",
    "            marker='x',\n",
    "            label=target_1)\n",
    "\n",
    "plt.scatter(X_13, X_23,\n",
    "            marker='^',\n",
    "            label=target_2)\n",
    "\n",
    "plt.xlabel('pca_component1')\n",
    "plt.ylabel('pca_component2')\n",
    "plt.legend()\n",
    "plt.show()\n",
    "\n",
    "\n"
   ]
  },
  {
   "cell_type": "code",
   "execution_count": 23,
   "metadata": {},
   "outputs": [
    {
     "data": {
      "image/png": "[encoded data removed]",
      "text/plain": [
       "<Figure size 640x480 with 1 Axes>"
      ]
     },
     "metadata": {},
     "output_type": "display_data"
    }
   ],
   "source": [
    "df = X_train_pca_df\n",
    "markers=['o','x','^']\n",
    "\n",
    "for i, mark in enumerate(markers):\n",
    "    df_i = df[df['target'] == i]\n",
    "    target_i = wine.target_names[i]\n",
    "    X1 = df_i['pca_comp1']\n",
    "    X2 = df_i['pca_comp2']\n",
    "    plt.scatter(X1, X2,\n",
    "                marker=mark,\n",
    "                label=target_i)\n",
    "plt.xlabel('pca_component1')\n",
    "plt.ylabel('pca_component2')\n",
    "plt.legend()\n",
    "plt.show()"
   ]
  },
  {
   "cell_type": "code",
   "execution_count": 26,
   "metadata": {},
   "outputs": [
    {
     "name": "stdout",
     "output_type": "stream",
     "text": [
      "0.9777777777777777\n"
     ]
    }
   ],
   "source": [
    "# training before pca\n",
    "from sklearn.ensemble import RandomForestClassifier\n",
    "RF = RandomForestClassifier(max_depth=2,\n",
    "                            random_state=0)\n",
    "RF.fit(X_train_std, y_train)\n",
    "pred_RF = RF.predict(X_test_std)\n",
    "\n",
    "from sklearn.metrics import accuracy_score\n",
    "accuarcy = accuracy_score(y_test, pred_RF)\n",
    "print(accuarcy)"
   ]
  },
  {
   "cell_type": "code",
   "execution_count": 27,
   "metadata": {},
   "outputs": [
    {
     "name": "stdout",
     "output_type": "stream",
     "text": [
      "0.9555555555555556\n"
     ]
    }
   ],
   "source": [
    "# training after pca\n",
    "RF2 = RandomForestClassifier(max_depth=2,\n",
    "                            random_state=0)\n",
    "RF2.fit(X_train_pca, y_train)\n",
    "pred_RF2 = RF2.predict(X_test_pca)\n",
    "\n",
    "accuarcy = accuracy_score(y_test, pred_RF2)\n",
    "print(accuarcy)"
   ]
  }
 ],
 "metadata": {
  "kernelspec": {
   "display_name": "taehyeok",
   "language": "python",
   "name": "taehyeok"
  },
  "language_info": {
   "codemirror_mode": {
    "name": "ipython",
    "version": 3
   },
   "file_extension": ".py",
   "mimetype": "text/x-python",
   "name": "python",
   "nbconvert_exporter": "python",
   "pygments_lexer": "ipython3",
   "version": "3.7.6"
  }
 },
 "nbformat": 4,
 "nbformat_minor": 2
}
